{
 "cells": [
  {
   "cell_type": "markdown",
   "metadata": {},
   "source": [
    "# Imports"
   ]
  },
  {
   "cell_type": "code",
   "execution_count": 1,
   "metadata": {},
   "outputs": [],
   "source": [
    "import requests\n",
    "import bs4\n",
    "import webbrowser"
   ]
  },
  {
   "cell_type": "markdown",
   "metadata": {},
   "source": [
    "# Requesting from law.justia.com"
   ]
  },
  {
   "cell_type": "code",
   "execution_count": null,
   "metadata": {},
   "outputs": [],
   "source": [
    "#\n",
    "penal_res = requests.get('https://law.justia.com/codes/new-york/2018/pen/part-3/title-g/article-100/100.00/')\n",
    "penal_res.raise_for_status()\n",
    "penal_res.status_code\n",
    "#"
   ]
  },
  {
   "cell_type": "markdown",
   "metadata": {},
   "source": [
    "# Practice Souping"
   ]
  },
  {
   "cell_type": "code",
   "execution_count": null,
   "metadata": {},
   "outputs": [],
   "source": [
    "soup = bs4.BeautifulSoup(penal_res.text, 'html.parser')"
   ]
  },
  {
   "cell_type": "code",
   "execution_count": null,
   "metadata": {},
   "outputs": [],
   "source": [
    "type(soup)"
   ]
  },
  {
   "cell_type": "code",
   "execution_count": null,
   "metadata": {},
   "outputs": [],
   "source": [
    "code_content = soup.select('p')"
   ]
  },
  {
   "cell_type": "code",
   "execution_count": null,
   "metadata": {},
   "outputs": [],
   "source": [
    "type(code_content), len(code_content)"
   ]
  },
  {
   "cell_type": "code",
   "execution_count": null,
   "metadata": {},
   "outputs": [],
   "source": [
    "for i in range(0,2):\n",
    "    lines = code_content[i].getText().replace(\"\\r\", \"\").replace(\"\\n\", \"\").replace(\"  \", \" \")\n",
    "    \n",
    "    print(lines+'\\n')"
   ]
  },
  {
   "cell_type": "code",
   "execution_count": null,
   "metadata": {},
   "outputs": [],
   "source": [
    "line = code_content[0].getText()"
   ]
  },
  {
   "cell_type": "code",
   "execution_count": null,
   "metadata": {},
   "outputs": [],
   "source": [
    "line"
   ]
  },
  {
   "cell_type": "markdown",
   "metadata": {},
   "source": [
    "# Automated Penal Code Webpage Scrape"
   ]
  },
  {
   "cell_type": "code",
   "execution_count": 2,
   "metadata": {},
   "outputs": [],
   "source": [
    "def get_code_contents_from_url(url):\n",
    "    res = requests.get(url)\n",
    "    res.raise_for_status()\n",
    "    soup = bs4.BeautifulSoup(res.text, 'html.parser')\n",
    "    content_paragraphs = soup.select('p')\n",
    "    code_text = \"\"\n",
    "    for i in range(len(content_paragraphs)):\n",
    "        paragraph = content_paragraphs[i].getText().replace(\"\\r\", \"\").replace(\"\\n\", \"\").replace(\"  \", \" \").lower()\n",
    "        code_text += paragraph + \" \"\n",
    "    \n",
    "    return code_text"
   ]
  },
  {
   "cell_type": "code",
   "execution_count": null,
   "metadata": {},
   "outputs": [],
   "source": [
    "text = get_code_from_page('https://law.justia.com/codes/new-york/2018/pen/part-3/title-g/article-100/100.00/')\n",
    "print(text)"
   ]
  },
  {
   "cell_type": "code",
   "execution_count": null,
   "metadata": {},
   "outputs": [],
   "source": [
    "text = get_code_from_page('https://law.justia.com/codes/new-york/2018/pen/part-3/title-k/article-170/170.00/')\n",
    "print(text)"
   ]
  },
  {
   "cell_type": "code",
   "execution_count": null,
   "metadata": {},
   "outputs": [],
   "source": [
    "## OK it works :)"
   ]
  },
  {
   "cell_type": "markdown",
   "metadata": {},
   "source": [
    "# Going Through a Site Practice"
   ]
  },
  {
   "cell_type": "code",
   "execution_count": null,
   "metadata": {},
   "outputs": [],
   "source": [
    "res = requests.get('https://law.justia.com/codes/new-york/2018/pen/part-3/title-k/')\n",
    "res.raise_for_status()"
   ]
  },
  {
   "cell_type": "code",
   "execution_count": null,
   "metadata": {},
   "outputs": [],
   "source": [
    "soup = bs4.BeautifulSoup(res.text, 'html.parser')\n",
    "list = soup.select('.codes-listing')\n",
    "type(list), len(list)"
   ]
  },
  {
   "cell_type": "code",
   "execution_count": null,
   "metadata": {},
   "outputs": [],
   "source": [
    "deep_soup = bs4.BeautifulSoup(str(list[0]), 'html.parser')\n",
    "links = deep_soup.select('a')\n",
    "type(links), len(links)"
   ]
  },
  {
   "cell_type": "code",
   "execution_count": null,
   "metadata": {},
   "outputs": [],
   "source": [
    "for i in range(0, len(links)):\n",
    "    print(links[i].get('href'))"
   ]
  },
  {
   "cell_type": "markdown",
   "metadata": {},
   "source": [
    "# Automated Link Scraper"
   ]
  },
  {
   "cell_type": "code",
   "execution_count": 3,
   "metadata": {},
   "outputs": [],
   "source": [
    "def get_links_from_url(url):\n",
    "    res = requests.get(url)\n",
    "    res.raise_for_status()\n",
    "    soup = bs4.BeautifulSoup(res.text, 'html.parser')\n",
    "    code_listing = soup.select('.codes-listing')\n",
    "    if len(code_listing) == 0:\n",
    "        print('found base page')\n",
    "        return 0\n",
    "    deep_soup = bs4.BeautifulSoup(str(code_listing[0]), 'html.parser')\n",
    "    links = deep_soup.select('a')\n",
    "    \n",
    "    print('found ' + str(len(links)) + ' links')\n",
    "    \n",
    "    return links"
   ]
  },
  {
   "cell_type": "code",
   "execution_count": null,
   "metadata": {},
   "outputs": [],
   "source": [
    "tag_array = get_links_from_url('https://law.justia.com/codes/new-york/2018/pen/part-3/')"
   ]
  },
  {
   "cell_type": "markdown",
   "metadata": {},
   "source": [
    "# Automated Link Diver"
   ]
  },
  {
   "cell_type": "code",
   "execution_count": 4,
   "metadata": {},
   "outputs": [],
   "source": [
    "def get_page(tag):\n",
    "        newUrl = 'https://law.justia.com' + tag.get('href')\n",
    "        res = requests.get(newUrl)\n",
    "        res.raise_for_status()\n",
    "        \n",
    "        return res.text"
   ]
  },
  {
   "cell_type": "markdown",
   "metadata": {},
   "source": [
    "# Link Scraper + Diver"
   ]
  },
  {
   "cell_type": "markdown",
   "metadata": {},
   "source": [
    "### but first... Automated Link Checker"
   ]
  },
  {
   "cell_type": "code",
   "execution_count": 5,
   "metadata": {},
   "outputs": [],
   "source": [
    "def has_links(page_text):\n",
    "    soup = bs4.BeautifulSoup(res.text, 'html.parser')\n",
    "    code_listing = soup.select('.codes-listing')\n",
    "    if len(code_listing) > 0:\n",
    "        return True\n",
    "    else:\n",
    "        return False"
   ]
  },
  {
   "cell_type": "code",
   "execution_count": 6,
   "metadata": {},
   "outputs": [],
   "source": [
    "import random\n",
    "import uuid\n",
    "\n",
    "def get_justia_penal_codes():\n",
    "    need_column_labels = True\n",
    "    outfile = 'penal_codes.csv'\n",
    "    outsize = 1024 * 1024 * 1024 # 1GB\n",
    "    size = 0\n",
    "    with open(outfile, 'ab') as csvfile:\n",
    "        if need_column_labels:\n",
    "            csvfile.write(bytes('id, citation\\n', 'utf-8'))\n",
    "            need_column_labels = False\n",
    "    url = 'https://law.justia.com/codes/new-york/2018/pen/part-3/'\n",
    "    titles = get_links_from_url(url)\n",
    "    \n",
    "    \n",
    "    # crawl the entire website\n",
    "    for i,title in enumerate(titles):\n",
    "        titleUrl = 'https://law.justia.com'+title.get('href')\n",
    "        articles = get_links_from_url(titleUrl)\n",
    "        \n",
    "        if size < outsize:\n",
    "            \n",
    "            for j,article in enumerate(articles):\n",
    "                articleUrl = 'https://law.justia.com'+article.get('href')\n",
    "                citations = get_links_from_url(articleUrl)\n",
    "                \n",
    "                if size < outsize:\n",
    "                    \n",
    "                    with open(outfile, 'ab') as csvfile:\n",
    "                        \n",
    "                        for k,citation in enumerate(citations):\n",
    "                            id_text = 'Title ' + str(i) + ' Article ' + str(j) + ' Citation ' + str(k)\n",
    "                            \n",
    "                            citationUrl = 'https://law.justia.com'+citation.get('href')\n",
    "                            txt = '%s,%s\\n' % (id_text, get_code_contents_from_url(citationUrl).replace(\",\", \"\"))\n",
    "                            size += len(txt)\n",
    "                            csvfile.write(bytes(txt, 'utf-8'))\n",
    "                else:\n",
    "                    break;\n",
    "        else:\n",
    "            break;\n",
    "            \n",
    "    print('done')"
   ]
  },
  {
   "cell_type": "code",
   "execution_count": 7,
   "metadata": {},
   "outputs": [
    {
     "name": "stdout",
     "output_type": "stream",
     "text": [
      "found 10 links\n",
      "found 4 links\n",
      "found 7 links\n",
      "found 10 links\n",
      "found 3 links\n",
      "found 7 links\n",
      "found 5 links\n",
      "found 30 links\n",
      "found 4 links\n",
      "found 14 links\n",
      "found 28 links\n",
      "found 18 links\n",
      "found 3 links\n",
      "found 10 links\n",
      "found 21 links\n",
      "found 6 links\n",
      "found 5 links\n",
      "found 12 links\n",
      "found 12 links\n",
      "found 11 links\n",
      "found 4 links\n",
      "found 28 links\n",
      "found 10 links\n",
      "found 19 links\n",
      "found 10 links\n",
      "found 15 links\n",
      "found 7 links\n",
      "found 7 links\n",
      "found 5 links\n",
      "found 20 links\n",
      "found 4 links\n",
      "found 7 links\n",
      "found 35 links\n",
      "found 5 links\n",
      "found 14 links\n",
      "found 19 links\n",
      "found 15 links\n",
      "found 11 links\n",
      "found 35 links\n",
      "found 5 links\n",
      "found 31 links\n",
      "found 12 links\n",
      "found 19 links\n",
      "found 25 links\n",
      "found 11 links\n",
      "found 5 links\n",
      "found 34 links\n",
      "found 2 links\n",
      "found 4 links\n",
      "found 7 links\n",
      "found 14 links\n",
      "found 3 links\n",
      "found 10 links\n",
      "found 16 links\n",
      "found 9 links\n",
      "found 3 links\n",
      "found 29 links\n",
      "found 8 links\n",
      "found 13 links\n",
      "done\n"
     ]
    }
   ],
   "source": [
    "get_justia_penal_codes()"
   ]
  },
  {
   "cell_type": "code",
   "execution_count": 52,
   "metadata": {},
   "outputs": [
    {
     "name": "stdout",
     "output_type": "stream",
     "text": [
      "*Title 0 Article 0 Citation 0*\n",
      "\n",
      "a person is guilty of criminal solicitation in the fifth degree when, with intent that another person engage in conduct constituting a crime, he solicits, requests, commands, importunes or otherwise attempts to cause such other person to engage in such conduct. criminal solicitation in the fifth degree is a violation. ask a lawyer find a lawyer                              subscribe to justia's free newsletters featuring summaries of federal and state court opinions.                \n",
      "\n",
      "\n",
      "\n",
      "*Title 0 Article 0 Citation 1*\n",
      "\n",
      "a person is guilty of criminal solicitation in the fourth degree when: 1. with intent that another person engage in conduct constituting a felony, he solicits, requests, commands, importunes or  otherwise attempts to cause such other person to engage in such conduct; or 2. being over eighteen years of age, with intent that another person under sixteen years of age engage in conduct that would constitute a crime, he solicits, requests, commands, importunes or otherwise attempts to cause such other person to engage in such conduct. criminal solicitation in the fourth degree is a class a misdemeanor. ask a lawyer find a lawyer                              subscribe to justia's free newsletters featuring summaries of federal and state court opinions.                \n",
      "\n",
      "\n",
      "\n",
      "*Title 0 Article 0 Citation 2*\n",
      "\n",
      "a person is guilty of criminal solicitation in the third degree when, being over eighteen years of age, with intent that another person under sixteen years of age engage in conduct that would constitute a felony, he solicits, requests, commands, importunes or otherwise attempts to cause such other person to engage in such conduct. criminal solicitation in the third degree is a class e felony. ask a lawyer find a lawyer                              subscribe to justia's free newsletters featuring summaries of federal and state court opinions.                \n",
      "\n",
      "\n",
      "\n",
      "*Title 0 Article 0 Citation 3*\n",
      "\n",
      "a person is guilty of criminal solicitation in the second degree when, with intent that another person engage in conduct constituting a class a felony,  he solicits, requests, commands, importunes or otherwise attempts to cause such other person to engage in such conduct. criminal solicitation in the second degree is a class d felony. ask a lawyer find a lawyer                              subscribe to justia's free newsletters featuring summaries of federal and state court opinions.                \n",
      "\n",
      "\n",
      "\n",
      "*Title 0 Article 0 Citation 4*\n",
      "\n",
      "a person is guilty of criminal solicitation in the first degree when, being over eighteen years of age, with intent that another person under sixteen years of age engage in conduct that would constitute a class a felony, he solicits, requests, commands, importunes or  otherwise attempts to cause such other person to engage in such conduct. criminal solicitation in the first degree is a class c felony. ask a lawyer find a lawyer                              subscribe to justia's free newsletters featuring summaries of federal and state court opinions.                \n",
      "\n",
      "\n",
      "\n",
      "*Title 0 Article 0 Citation 5*\n",
      "\n",
      "it is no defense to a prosecution for criminal solicitation that the person solicited could not be guilty of the crime solicited owing to criminal irresponsibility or other legal incapacity or exemption, or to unawareness of the criminal nature of the conduct solicited or of the defendant's criminal purpose or to other factors precluding the mental state required for the commission of the crime in question. ask a lawyer find a lawyer                              subscribe to justia's free newsletters featuring summaries of federal and state court opinions.                \n",
      "\n",
      "\n",
      "\n",
      "*Title 0 Article 0 Citation 6*\n",
      "\n",
      "a person is not guilty of criminal solicitation when his solicitation constitutes conduct of a kind that is necessarily incidental to the commission of the crime solicited. when under such circumstances the solicitation constitutes an offense other than criminal solicitation which is related to but separate from the crime solicited, the actor is guilty of such related and separate offense only and not of criminal solicitation. ask a lawyer find a lawyer                              subscribe to justia's free newsletters featuring summaries of federal and state court opinions.                \n",
      "\n",
      "\n",
      "\n",
      "*Title 0 Article 1 Citation 0*\n",
      "\n",
      "a person is guilty of conspiracy in the sixth degree when, with intent that conduct constituting a crime be performed, he agrees with one or more persons to engage in or cause the performance of such conduct. conspiracy in the sixth degree is a class b misdemeanor. ask a lawyer find a lawyer                              subscribe to justia's free newsletters featuring summaries of federal and state court opinions.                \n",
      "\n",
      "\n",
      "\n",
      "*Title 0 Article 1 Citation 1*\n",
      "\n",
      "a person is guilty of conspiracy in the fifth degree when, with intent that conduct constituting: 1. a felony be performed, he agrees with one or more persons to engage in or cause the performance of such conduct; or 2. a crime be performed, he, being over eighteen years of age, agrees with one or more persons under sixteen years of age to engage in or cause the performance of such conduct. conspiracy in the fifth degree is a class a misdemeanor. ask a lawyer find a lawyer                              subscribe to justia's free newsletters featuring summaries of federal and state court opinions.                \n",
      "\n",
      "\n",
      "\n",
      "*Title 0 Article 1 Citation 2*\n",
      "\n",
      "a person is guilty of conspiracy in the fourth degree when, with intent that conduct constituting: 1. a class b or class c felony be performed, he or she agrees with one or more persons to engage in or cause the performance of such conduct; or 2. a felony be performed, he or she, being over eighteen years of age, agrees with one or more persons under sixteen years of age to engage in or cause the performance of such conduct; or 3. the felony of money laundering in the third degree as defined in section 470.10 of this chapter, be performed, he or she agrees with one or more persons to engage in or cause the performance of such conduct. conspiracy in the fourth degree is a class e felony. ask a lawyer find a lawyer                              subscribe to justia's free newsletters featuring summaries of federal and state court opinions.                \n",
      "\n",
      "\n",
      "\n",
      "*Title 0 Article 1 Citation 3*\n",
      "\n",
      "a person is guilty of conspiracy in the third degree when, with intent that conduct constituting a class b or a class c felony be performed, he, being over eighteen years of age, agrees with one or more persons under sixteen years of age to engage in or cause the performance of such conduct. conspiracy in the third degree is a class d felony. ask a lawyer find a lawyer                              subscribe to justia's free newsletters featuring summaries of federal and state court opinions.                \n",
      "\n",
      "\n",
      "\n",
      "*Title 0 Article 1 Citation 4*\n",
      "\n",
      "a person is guilty of conspiracy in the second degree when, with intent that conduct constituting a class a felony be performed, he agrees with one or more persons to engage in or cause the performance of such conduct. conspiracy in the second degree is a class b felony. ask a lawyer find a lawyer                              subscribe to justia's free newsletters featuring summaries of federal and state court opinions.                \n",
      "\n",
      "\n",
      "\n",
      "*Title 0 Article 1 Citation 5*\n",
      "\n",
      "a person is guilty of conspiracy in the first degree when, with intent that conduct constituting a class a felony be performed, he, being over eighteen years of age, agrees with one or more persons under sixteen years of age to engage in or cause the performance of such conduct. conspiracy in the first degree is a class a-i felony. ask a lawyer find a lawyer                              subscribe to justia's free newsletters featuring summaries of federal and state court opinions.                \n",
      "\n",
      "\n",
      "\n",
      "*Title 0 Article 1 Citation 6*\n",
      "\n",
      "a person shall not be convicted of conspiracy unless an overt act is alleged and proved to have been committed by one of the conspirators in furtherance of the conspiracy. ask a lawyer find a lawyer                              subscribe to justia's free newsletters featuring summaries of federal and state court opinions.                \n",
      "\n",
      "\n",
      "\n",
      "*Title 0 Article 1 Citation 7*\n",
      "\n",
      "1. a person may be prosecuted for conspiracy in the county in which he entered into such conspiracy or in any county in which an overt act in furtherance thereof was committed. 2. an agreement made within this state to engage in or cause the performance of conduct in another jurisdiction is punishable herein as a conspiracy only when such conduct would constitute a crime both under the laws of this state if performed herein and under the laws of the other jurisdiction if performed therein. 3. an agreement made in another jurisdiction to engage in or cause the performance of conduct within this state, which would constitute a crime herein, is punishable herein only when an overt act in furtherance of such conspiracy is  committed  within  this  state.  under  such circumstances, it is no defense to a prosecution for conspiracy that the conduct which is the objective of the conspiracy would not constitute a crime under the laws of the other jurisdiction if performed therein. ask a lawyer find a lawyer                              subscribe to justia's free newsletters featuring summaries of federal and state court opinions.                \n",
      "\n",
      "\n",
      "\n",
      "*Title 0 Article 1 Citation 8*\n",
      "\n",
      "it is no defense to a prosecution for conspiracy that, owing to criminal irresponsibility or other legal incapacity or exemption, or to unawareness of the criminal nature of the agreement or the object conduct or of the defendant's criminal purpose or to other factors precluding the mental state required for the commission of conspiracy or the object crime, one or more of the defendant's co-conspirators could not be guilty of conspiracy or the object crime. ask a lawyer find a lawyer                              subscribe to justia's free newsletters featuring summaries of federal and state court opinions.                \n",
      "\n",
      "\n",
      "\n",
      "*Title 0 Article 1 Citation 9*\n",
      "\n",
      "\n"
     ]
    }
   ],
   "source": [
    "print(test_scrap)"
   ]
  },
  {
   "cell_type": "markdown",
   "metadata": {},
   "source": [
    "## Writing to CSV"
   ]
  },
  {
   "cell_type": "code",
   "execution_count": null,
   "metadata": {},
   "outputs": [],
   "source": []
  }
 ],
 "metadata": {
  "kernelspec": {
   "display_name": "Python 3",
   "language": "python",
   "name": "python3"
  },
  "language_info": {
   "codemirror_mode": {
    "name": "ipython",
    "version": 3
   },
   "file_extension": ".py",
   "mimetype": "text/x-python",
   "name": "python",
   "nbconvert_exporter": "python",
   "pygments_lexer": "ipython3",
   "version": "3.7.4"
  }
 },
 "nbformat": 4,
 "nbformat_minor": 2
}
